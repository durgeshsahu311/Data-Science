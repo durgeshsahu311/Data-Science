{
 "cells": [
  {
   "cell_type": "code",
   "execution_count": null,
   "id": "30d0002d",
   "metadata": {},
   "outputs": [],
   "source": [
    "print(\"Simple Tables\")\n",
    "num = int(input(\"enter the number of your choice \\n\"))\n",
    "print(\"*\"*20)\n",
    "multiple = 1\n",
    "while (multiple<=10):\n",
    "    print(num,\"*\",multiple,\"=\",multiple*num)\n",
    "    multiple=multiple+1\n"
   ]
  }
 ],
 "metadata": {
  "kernelspec": {
   "display_name": "Python 3 (ipykernel)",
   "language": "python",
   "name": "python3"
  },
  "language_info": {
   "codemirror_mode": {
    "name": "ipython",
    "version": 3
   },
   "file_extension": ".py",
   "mimetype": "text/x-python",
   "name": "python",
   "nbconvert_exporter": "python",
   "pygments_lexer": "ipython3",
   "version": "3.9.7"
  }
 },
 "nbformat": 4,
 "nbformat_minor": 5
}
