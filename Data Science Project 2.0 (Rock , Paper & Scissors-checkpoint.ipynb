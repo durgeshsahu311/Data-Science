{
 "cells": [
  {
   "cell_type": "markdown",
   "id": "1e77b83e",
   "metadata": {},
   "source": [
    "# Rock , Paper & Scissors"
   ]
  },
  {
   "cell_type": "code",
   "execution_count": null,
   "id": "365987d6",
   "metadata": {},
   "outputs": [],
   "source": [
    "# Player's Input\n",
    "player1 = str(input(\"choose between r/p/s [rock, paper and scissors] : \\n\"))\n",
    "player2 = str(input(\"choose between r/p/s [rock, paper and scissors] : \\n\"))\n",
    "\n",
    "# case 1\n",
    "if (player1== 'r') and (player2== 'r'):\n",
    "    print(\"player1 choose {option1} and player2 choose {option2}\".format(option=player1,option2=player2))\n",
    "    print(\"Thats a tie\")\n",
    "elif (player1== 'r') and (player2== 'p'):\n",
    "    print(\"player1 choose {option1} and player2 choose {option2}\".format(option=player1,option2=player2))\n",
    "    print(\"player2 won the game\")\n",
    "elif (player1== 'r') and (player2== 's'):\n",
    "    print(\"player1 choose {option1} and player2 choose {option2}\".format(option=player1,option2=player2))\n",
    "    print(\"player1 won the game\")\n",
    "\n",
    "#case2 \n",
    "\n",
    "elif (player1== 'p') and (player2== 'r'):\n",
    "    print(\"player1 choose {option1} and player2 choose {option2}\".format(option=player1,option2=player2))\n",
    "    print(\"player1 won the game\")\n",
    "elif (player1== 'p') and (player2== 'p'):\n",
    "    print(\"player1 choose {option1} and player2 choose {option2}\".format(option=player1,option2=player2))\n",
    "    print(\"Thats a tie\")\n",
    "elif (player1== 'p') and (player2== 's'):\n",
    "    print(\"player1 choose {option1} and player2 choose {option2}\".format(option=player1,option2=player2))\n",
    "    print(\"player2 won the game\")\n",
    "\n",
    "    \n",
    "#case3\n",
    "elif (player1== 's') and (player2== 'r'):\n",
    "    print(\"player1 choose {option1} and player2 choose {option2}\".format(option=player1,option2=player2))\n",
    "    print(\"player2 won the game\")\n",
    "elif (player1== 's') and (player2== 'p'):\n",
    "    print(\"player1 choose {option1} and player2 choose {option2}\".format(option=player1,option2=player2))\n",
    "    print(\"player1 won the game\")\n",
    "elif (player1== 's') and (player2== 's'):\n",
    "    print(\"player1 choose {option1} and player2 choose {option2}\".format(option=player1,option2=player2))\n",
    "    print(\"Thats a tie\")\n",
    "\n",
    "#case4\n",
    "else:\n",
    "    print(\"choose the correct option\")\n"
   ]
  }
 ],
 "metadata": {
  "kernelspec": {
   "display_name": "Python 3 (ipykernel)",
   "language": "python",
   "name": "python3"
  },
  "language_info": {
   "codemirror_mode": {
    "name": "ipython",
    "version": 3
   },
   "file_extension": ".py",
   "mimetype": "text/x-python",
   "name": "python",
   "nbconvert_exporter": "python",
   "pygments_lexer": "ipython3",
   "version": "3.9.7"
  }
 },
 "nbformat": 4,
 "nbformat_minor": 5
}
